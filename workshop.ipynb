{
 "cells": [
  {
   "cell_type": "markdown",
   "metadata": {},
   "source": [
    "# How to Code a Neural Network from Scratch\n",
    "\n",
    "This notebook demonstrates building a simple neural network from scratch using only **NumPy** for computations and **matplotlib** for visualisations. We will train the network on the **MNIST dataset**, which contains handwritten digits.  \n",
    "\n",
    "**Key topics covered:**  \n",
    "- Dataset preparation  \n",
    "- Activation functions  \n",
    "- Loss functions  \n",
    "- Forward and backward propagation  \n",
    "- Training loop  \n",
    "- Evaluation and visualisation\n",
    "\n",
    "We will mathematically explain each component, including the intuition behind activation functions, loss functions, and the weight update rules used in backpropagation."
   ]
  },
  {
   "cell_type": "markdown",
   "id": "334d692f",
   "metadata": {},
   "source": [
    "Structure of a NN\n",
    "\n",
    "Neuron - holds a called the activation; we standardise this\n",
    "Weight - how important a connnecttion is\n",
    "Bias - decides how high the activation needs to be for the neuron to be considered active\n",
    "\n",
    "*Picture of NN*\n",
    "\n",
    "Each circle depicts a neuron and each connection between any 2 neurons has a weight and bias attached to it\n",
    "the first layer is the input layer, this is where all paramaters that you want to take into consideration are inputted; in this case itll be the brightness of each pixel\n",
    "the final layer is the output layer and this will be the networks final decision; in this case it'll be what number itll be looking at\n",
    "Anything between them is called the hidden layer"
   ]
  },
  {
   "cell_type": "markdown",
   "id": "3a06a67d",
   "metadata": {},
   "source": [
    "## 1. Setup\n",
    "\n",
    "We import the required libraries:\n",
    "\n",
    "- **NumPy** for matrix operations (essential for vectorised computation of forward and backward passes)  \n",
    "- **matplotlib** for visualising the network’s training progress  "
   ]
  },
  {
   "cell_type": "code",
   "execution_count": null,
   "id": "e8ccd7e4",
   "metadata": {
    "vscode": {
     "languageId": "powershell"
    }
   },
   "outputs": [],
   "source": [
    "%pip install numpy matplotlib"
   ]
  },
  {
   "cell_type": "code",
   "execution_count": 17,
   "metadata": {},
   "outputs": [],
   "source": [
    "import numpy as np\n",
    "import matplotlib.pyplot as plt\n",
    "from random import shuffle"
   ]
  },
  {
   "cell_type": "markdown",
   "id": "a70681c7",
   "metadata": {},
   "source": [
    "## 2. Downloading the Dataset\n",
    "\n",
    "We use the MNIST dataset containing 28x28 grayscale images of handwritten digits. The dataset is downloaded and extracted.  \n",
    "\n",
    "Dataset source: [MNIST Numpy](https://www.kaggle.com/datasets/vikramtiwari/mnist-numpy)"
   ]
  },
  {
   "cell_type": "code",
   "execution_count": null,
   "id": "316f2ca7",
   "metadata": {
    "vscode": {
     "languageId": "powershell"
    }
   },
   "outputs": [],
   "source": [
    "!mkdir dataset && curl -L -o dataset/mnist-numpy.zip https://www.kaggle.com/api/v1/datasets/download/vikramtiwari/mnist-numpy && powershell -Command \"Expand-Archive -Force dataset/mnist-numpy.zip dataset; Remove-Item dataset/mnist-numpy.zip\""
   ]
  },
  {
   "cell_type": "markdown",
   "id": "13dd139b",
   "metadata": {},
   "source": [
    "## 3. Loading and Preprocessing the Dataset\n",
    "\n",
    "Steps performed:  \n",
    "- Load training and test images and labels  \n",
    "- Normalise pixel values to `[0, 1]`  \n",
    "\n",
    "Training data is used to train the weights and biases of the network and the test data is used to test the performance\n"
   ]
  },
  {
   "cell_type": "code",
   "execution_count": 19,
   "metadata": {},
   "outputs": [],
   "source": [
    "class Dataset:\n",
    "    def __init__(self, images: np.ndarray, labels: np.ndarray):\n",
    "        self.images, self.labels = Dataset.adjust(images, labels)\n",
    "\n",
    "    @staticmethod\n",
    "    def adjust(images, labels):\n",
    "        return images / 255, np.eye(10)[labels]\n",
    "        #normalises pixels values from 0-255 (black to white) to 0-1\n",
    "        #makes labels into arrays; eg: a label of 3 becomes [0, 0, 0, 1, 0, 0, 0, 0, 0, 0]\n",
    "\n",
    "def load_data(path):\n",
    "    with np.load(path) as f:\n",
    "        x_train, y_train = f['x_train'], f['y_train'] #training dataset\n",
    "        x_test, y_test = f['x_test'], f['y_test'] #test dataset\n",
    "        return Dataset(x_train, y_train), Dataset(x_test, y_test)\n",
    "    \n",
    "training, testing = load_data('./dataset/mnist.npz')"
   ]
  },
  {
   "cell_type": "markdown",
   "id": "2261d2ea",
   "metadata": {},
   "source": [
    "## 4. Hyperparameters\n",
    "\n",
    "Define essential hyperparameters for training:  \n",
    "\n",
    "- **Learning rate**: controls the step size in gradient descent  \n",
    "- **Epochs**: number of times the entire dataset is passed through the network"
   ]
  },
  {
   "cell_type": "code",
   "execution_count": 20,
   "metadata": {},
   "outputs": [],
   "source": [
    "learn_rate = 0.012\n",
    "epochs = 50"
   ]
  },
  {
   "cell_type": "markdown",
   "id": "3864824a",
   "metadata": {},
   "source": [
    "## 5. Activation Functions\n",
    "\n",
    "Activation functions introduce non-linearity to the network. We implement:  \n",
    "\n",
    "- **Sigmoid**  \n",
    "- **ReLU**  \n",
    "- **Tanh**  \n"
   ]
  },
  {
   "cell_type": "code",
   "execution_count": 21,
   "id": "9b978502",
   "metadata": {},
   "outputs": [],
   "source": [
    "def _sigmoid(x, derivative = False):\n",
    "    if derivative:\n",
    "        s = _sigmoid(x) \n",
    "        return s * (1 - s)\n",
    "    return 1 / (1 + np.exp(-x))\n",
    "\n",
    "def _relu(x, derivative = False):\n",
    "    if derivative:\n",
    "        return (x > 0).astype(float)\n",
    "    return x * (x > 0)\n",
    "\n",
    "def _tanh(x, derivative = False):\n",
    "    if derivative:\n",
    "        return 1 - np.tanh(x) ** 2\n",
    "    return np.tanh(x)"
   ]
  },
  {
   "cell_type": "markdown",
   "id": "830b145c",
   "metadata": {},
   "source": [
    "## 6. Loss / Cost Functions\n",
    "\n",
    "Loss functions measure the network’s prediction error. We implement:  \n",
    "\n",
    "- **Mean Squared Error** (good for regression tasks)  \n",
    "- **Cross-Entropy Loss** (suitable for classification)  \n",
    "\n",
    "We select **cross-entropy loss** for MNIST classification."
   ]
  },
  {
   "cell_type": "code",
   "execution_count": 22,
   "id": "f9b5d46a",
   "metadata": {},
   "outputs": [],
   "source": [
    "def _mean_squared_error(x, y): #better for regression\n",
    "    return np.mean((x - y) ** 2)\n",
    "\n",
    "def _cross_entropy_loss(x, y):\n",
    "    x = np.clip(x, 1e-12, 1.0) # safety in case x = 0 \n",
    "    return -np.mean(np.sum(y * np.log(x), axis=0))"
   ]
  },
  {
   "cell_type": "markdown",
   "id": "d4daea48",
   "metadata": {},
   "source": [
    "And now lets choose each function"
   ]
  },
  {
   "cell_type": "code",
   "execution_count": 23,
   "id": "2a0bf54a",
   "metadata": {},
   "outputs": [],
   "source": [
    "activation_h = _sigmoid\n",
    "activation_o = _sigmoid\n",
    "cost = _cross_entropy_loss"
   ]
  },
  {
   "cell_type": "markdown",
   "id": "6c6b75d5",
   "metadata": {},
   "source": [
    "## 7. Network Architecture\n",
    "\n",
    "A simple fully connected neural network:  \n",
    "\n",
    "- Input layer: 784 neurons (28x28 flattened image)  \n",
    "- Hidden layer: 40 neurons  \n",
    "- Output layer: 10 neurons (digits 0–9)  \n",
    "\n",
    "Weights and biases are initialised randomly."
   ]
  },
  {
   "cell_type": "code",
   "execution_count": 24,
   "id": "e099175f",
   "metadata": {},
   "outputs": [],
   "source": [
    "input_layer_nodes = 784\n",
    "hidden_layer_nodes = 40\n",
    "output_layer_nodes = 10"
   ]
  },
  {
   "cell_type": "markdown",
   "id": "4945e7af",
   "metadata": {},
   "source": [
    "w = weights, b = bias, i = input, h = hidden, o = output\n",
    "e.g. w_i_h = weights from input layer to hidden layer"
   ]
  },
  {
   "cell_type": "code",
   "execution_count": 25,
   "id": "7bafdc0d",
   "metadata": {},
   "outputs": [],
   "source": [
    "w_i_h = np.random.uniform(-0.5, 0.5, (hidden_layer_nodes, input_layer_nodes)) #weights for input layer to hidden layer\n",
    "w_h_o = np.random.uniform(-0.5, 0.5, (output_layer_nodes, hidden_layer_nodes)) #weights for hidden layer to output layer\n",
    "b_i_h = np.zeros((hidden_layer_nodes, 1)) #bias for input layer to hidden layer\n",
    "b_h_o = np.zeros((output_layer_nodes, 1)) #bias for output layer to output layer"
   ]
  },
  {
   "cell_type": "markdown",
   "id": "cbe6c5ed",
   "metadata": {},
   "source": [
    "## 8. Forward and Backward Propagation\n",
    "\n",
    "- **Forward propagation**: computes the network output for a given input  \n",
    "- **Backward propagation**: updates weights and biases using gradient descent  \n",
    "\n",
    "These functions implement the core of training."
   ]
  },
  {
   "cell_type": "code",
   "execution_count": 26,
   "id": "94d5b2cd",
   "metadata": {},
   "outputs": [],
   "source": [
    "def forward(image, w_i_h, w_h_o, b_i_h, b_h_o):\n",
    "    #input -> hidden\n",
    "    hidden = activation_h(b_i_h + w_i_h @ image)\n",
    "    #hidden -> output\n",
    "    output = activation_o(b_h_o + w_h_o @ hidden)\n",
    "    return output, hidden\n",
    "\n",
    "def back(difference, hidden, image, w_i_h, w_h_o, b_i_h, b_h_o, learn_rate): #difference = delta_o\n",
    "    delta_h = w_h_o.T @ difference * activation_h(b_i_h + w_i_h @ image, True)\n",
    "    #output -> hidden (cost function derivative)\n",
    "    w_h_o += -learn_rate * difference @ hidden.T\n",
    "    b_h_o += -learn_rate * difference\n",
    "    #hidden -> input (activation function derivative)\n",
    "    w_i_h += -learn_rate * delta_h @ image.T\n",
    "    b_i_h += -learn_rate * delta_h\n",
    "    return w_i_h, w_h_o, b_i_h, b_h_o"
   ]
  },
  {
   "cell_type": "markdown",
   "id": "195867df",
   "metadata": {},
   "source": [
    "## 9. Training the Network\n",
    "\n",
    "Training loop steps:  \n",
    "1. Shuffle dataset each epoch  \n",
    "2. Perform forward and backward propagation for each sample  \n",
    "3. Calculate accuracy and loss  \n",
    "4. Track errors and accuracies for plotting"
   ]
  },
  {
   "cell_type": "code",
   "execution_count": 27,
   "id": "32c08c0c",
   "metadata": {},
   "outputs": [],
   "source": [
    "def train(dataset, epochs, learn_rate, w_i_h, w_h_o, b_i_h, b_h_o):\n",
    "    epoch_errors = []\n",
    "    epoch_accuracies = []\n",
    "    n_samples = dataset.images.shape[0]\n",
    "\n",
    "    for epoch in range(epochs):\n",
    "        correct = 0\n",
    "        total_error = 0\n",
    "        dataset_list = list(zip(dataset.images, dataset.labels))\n",
    "        shuffle(dataset_list)\n",
    "\n",
    "        for image, label in dataset_list:\n",
    "            image = image.reshape(784, 1)\n",
    "            label = label.reshape(10, 1)\n",
    "\n",
    "            output, hidden = forward(image, w_i_h, w_h_o, b_i_h, b_h_o)\n",
    "\n",
    "            error = cost(output, label)\n",
    "            total_error += error\n",
    "\n",
    "            correct += int(np.argmax(output) == np.argmax(label))\n",
    "\n",
    "            w_i_h, w_h_o, b_i_h, b_h_o = back(output - label, hidden, image, w_i_h, w_h_o, b_i_h, b_h_o, learn_rate)\n",
    "\n",
    "        avg_error = total_error / n_samples\n",
    "        accuracy = correct / n_samples * 100\n",
    "        epoch_errors.append(avg_error)\n",
    "        epoch_accuracies.append(accuracy)\n",
    "\n",
    "        print(f\"Epoch {epoch+1}/{epochs}, Accuracy: {accuracy:.2f}%, Error: {avg_error:.6f}\")\n",
    "\n",
    "    return w_i_h, w_h_o, b_i_h, b_h_o, epoch_errors, epoch_accuracies\n",
    "\n",
    "def plot(errors, accuracies):\n",
    "    fig, ax1 = plt.subplots()\n",
    "\n",
    "    color = 'tab:red'\n",
    "    ax1.set_xlabel('Epoch')\n",
    "    ax1.set_ylabel('Average Error', color=color)\n",
    "    ax1.plot(range(1, epochs + 1), errors, marker='o', color=color)\n",
    "    ax1.tick_params(axis='y', labelcolor=color)\n",
    "\n",
    "    ax2 = ax1.twinx() \n",
    "    color = 'tab:blue'\n",
    "    ax2.set_ylabel('Accuracy (%)', color=color)\n",
    "    ax2.plot(range(1, epochs + 1), accuracies, marker='x', color=color)\n",
    "    ax2.tick_params(axis='y', labelcolor=color)\n",
    "\n",
    "    plt.title(\"Training Error and Accuracy Over Epochs\")\n",
    "    fig.tight_layout()\n",
    "    plt.grid(True)\n",
    "    plt.show()"
   ]
  },
  {
   "cell_type": "markdown",
   "id": "73ecf036",
   "metadata": {},
   "source": [
    "## 10. Training Results\n",
    "\n",
    "We train the network and plot:  \n",
    "\n",
    "- **Training loss over epochs**  \n",
    "- **Training accuracy over epochs**  \n",
    "\n",
    "This helps us visually confirm learning progress."
   ]
  },
  {
   "cell_type": "code",
   "execution_count": 28,
   "id": "48d6f905",
   "metadata": {},
   "outputs": [
    {
     "name": "stdout",
     "output_type": "stream",
     "text": [
      "Epoch 1/50, Accuracy: 88.69%, Error: 0.461875\n",
      "Epoch 2/50, Accuracy: 93.68%, Error: 0.261209\n",
      "Epoch 3/50, Accuracy: 94.85%, Error: 0.214134\n",
      "Epoch 4/50, Accuracy: 95.53%, Error: 0.186744\n",
      "Epoch 5/50, Accuracy: 96.08%, Error: 0.168192\n",
      "Epoch 6/50, Accuracy: 96.42%, Error: 0.153773\n",
      "Epoch 7/50, Accuracy: 96.73%, Error: 0.142944\n",
      "Epoch 8/50, Accuracy: 96.98%, Error: 0.135119\n",
      "Epoch 9/50, Accuracy: 97.17%, Error: 0.127068\n",
      "Epoch 10/50, Accuracy: 97.35%, Error: 0.121048\n",
      "Epoch 11/50, Accuracy: 97.51%, Error: 0.115743\n",
      "Epoch 12/50, Accuracy: 97.60%, Error: 0.110796\n",
      "Epoch 13/50, Accuracy: 97.69%, Error: 0.107053\n",
      "Epoch 14/50, Accuracy: 97.83%, Error: 0.102996\n",
      "Epoch 15/50, Accuracy: 97.90%, Error: 0.099889\n",
      "Epoch 16/50, Accuracy: 97.96%, Error: 0.095984\n",
      "Epoch 17/50, Accuracy: 98.02%, Error: 0.093200\n",
      "Epoch 18/50, Accuracy: 98.11%, Error: 0.090643\n",
      "Epoch 19/50, Accuracy: 98.15%, Error: 0.088380\n",
      "Epoch 20/50, Accuracy: 98.25%, Error: 0.085416\n",
      "Epoch 21/50, Accuracy: 98.30%, Error: 0.083058\n",
      "Epoch 22/50, Accuracy: 98.34%, Error: 0.080660\n",
      "Epoch 23/50, Accuracy: 98.38%, Error: 0.078874\n",
      "Epoch 24/50, Accuracy: 98.43%, Error: 0.076969\n",
      "Epoch 25/50, Accuracy: 98.49%, Error: 0.075297\n",
      "Epoch 26/50, Accuracy: 98.56%, Error: 0.072912\n",
      "Epoch 27/50, Accuracy: 98.59%, Error: 0.071774\n",
      "Epoch 28/50, Accuracy: 98.64%, Error: 0.069802\n",
      "Epoch 29/50, Accuracy: 98.69%, Error: 0.067787\n",
      "Epoch 30/50, Accuracy: 98.71%, Error: 0.066703\n",
      "Epoch 31/50, Accuracy: 98.77%, Error: 0.064578\n",
      "Epoch 32/50, Accuracy: 98.78%, Error: 0.063393\n",
      "Epoch 33/50, Accuracy: 98.83%, Error: 0.062903\n",
      "Epoch 34/50, Accuracy: 98.87%, Error: 0.061168\n",
      "Epoch 35/50, Accuracy: 98.90%, Error: 0.059616\n",
      "Epoch 36/50, Accuracy: 98.91%, Error: 0.058569\n",
      "Epoch 37/50, Accuracy: 98.96%, Error: 0.057199\n",
      "Epoch 38/50, Accuracy: 98.98%, Error: 0.056696\n",
      "Epoch 39/50, Accuracy: 99.00%, Error: 0.055699\n",
      "Epoch 40/50, Accuracy: 99.09%, Error: 0.053897\n",
      "Epoch 41/50, Accuracy: 99.09%, Error: 0.052910\n",
      "Epoch 42/50, Accuracy: 99.14%, Error: 0.051904\n",
      "Epoch 43/50, Accuracy: 99.11%, Error: 0.050612\n",
      "Epoch 44/50, Accuracy: 99.19%, Error: 0.049374\n",
      "Epoch 45/50, Accuracy: 99.23%, Error: 0.048670\n",
      "Epoch 46/50, Accuracy: 99.21%, Error: 0.047703\n",
      "Epoch 47/50, Accuracy: 99.23%, Error: 0.047159\n",
      "Epoch 48/50, Accuracy: 99.25%, Error: 0.046720\n",
      "Epoch 49/50, Accuracy: 99.28%, Error: 0.045254\n",
      "Epoch 50/50, Accuracy: 99.26%, Error: 0.044742\n"
     ]
    }
   ],
   "source": [
    "w_i_h, w_h_o, b_i_h, b_h_o, errors, accuracies = train(training, epochs, learn_rate, w_i_h, w_h_o, b_i_h, b_h_o)"
   ]
  },
  {
   "cell_type": "code",
   "execution_count": 29,
   "id": "dc69f4e5",
   "metadata": {},
   "outputs": [
    {
     "data": {
      "image/png": "[encoded data removed]",
      "text/plain": [
       "<Figure size 640x480 with 2 Axes>"
      ]
     },
     "metadata": {},
     "output_type": "display_data"
    }
   ],
   "source": [
    "plot(errors, accuracies)"
   ]
  },
  {
   "cell_type": "markdown",
   "id": "807db9d0",
   "metadata": {},
   "source": [
    "## 11. Testing the Network\n",
    "\n",
    "We evaluate the trained network on unseen test data and compute accuracy.  \n",
    "\n",
    "- Count how many predictions match true labels  \n",
    "- Calculate overall test accuracy"
   ]
  },
  {
   "cell_type": "code",
   "execution_count": 30,
   "id": "3c624330",
   "metadata": {},
   "outputs": [],
   "source": [
    "def test(test_dataset):\n",
    "    count = 0\n",
    "    misclassified_indices = []\n",
    "    for idx, (image, label) in enumerate(zip(test_dataset.images, test_dataset.labels)):\n",
    "        image = image.reshape(784, 1)\n",
    "        output, _ = forward(image, w_i_h, w_h_o, b_i_h, b_h_o)\n",
    "        \n",
    "        if np.argmax(output) != np.argmax(label): misclassified_indices.append(idx)\n",
    "        else: count += 1\n",
    "    print(f\"{count}/{idx + 1}\\t{count/(idx + 1) * 100: .2f}%\")\n",
    "    return misclassified_indices"
   ]
  },
  {
   "cell_type": "code",
   "execution_count": 31,
   "id": "08f08171",
   "metadata": {},
   "outputs": [
    {
     "name": "stdout",
     "output_type": "stream",
     "text": [
      "9654/10000\t 96.54%\n"
     ]
    }
   ],
   "source": [
    "misclassified = test(testing)"
   ]
  },
  {
   "cell_type": "markdown",
   "id": "791b3d2c",
   "metadata": {},
   "source": [
    "## 12. Visualising Predictions\n",
    "\n",
    "We inspect individual test samples:  \n",
    "\n",
    "- Display the image  \n",
    "- Show the network’s predicted label and confidence for each class  \n",
    "- Helps interpret network behaviour on specific digits"
   ]
  },
  {
   "cell_type": "code",
   "execution_count": 32,
   "id": "f4f563a2",
   "metadata": {},
   "outputs": [
    {
     "data": {
      "application/vnd.jupyter.widget-view+json": {
       "model_id": "0414a07b5dfb4fe0b2741c259b4d5bae",
       "version_major": 2,
       "version_minor": 0
      },
      "text/plain": [
       "interactive(children=(IntSlider(value=0, description='idx', max=345), Output()), _dom_classes=('widget-interac…"
      ]
     },
     "metadata": {},
     "output_type": "display_data"
    }
   ],
   "source": [
    "import matplotlib.pyplot as plt\n",
    "from ipywidgets import interact\n",
    "\n",
    "def show_test_sample(test_dataset, idx, w_i_h, w_h_o, b_i_h, b_h_o):\n",
    "    image = test_dataset.images[idx].reshape(784, 1)\n",
    "    true_label = np.argmax(test_dataset.labels[idx])\n",
    "\n",
    "    output, _ = forward(image, w_i_h, w_h_o, b_i_h, b_h_o)\n",
    "    output = output.flatten()\n",
    "    pred_label = int(np.argmax(output))\n",
    "\n",
    "    fig, (ax_img, ax_bar) = plt.subplots(1, 2, figsize=(10, 4))\n",
    "    ax_img.imshow(test_dataset.images[idx].reshape(28, 28), cmap=\"gray\")\n",
    "    ax_img.set_title(f\"True: {true_label}, Pred: {pred_label}\")\n",
    "    ax_img.axis(\"off\")\n",
    "\n",
    "    ax_bar.bar(range(10), output)\n",
    "    ax_bar.set_xticks(range(10))\n",
    "    ax_bar.set_ylim(0, 1)\n",
    "    ax_bar.set_xlabel(\"Digit\")\n",
    "    ax_bar.set_ylabel(\"Confidence\")\n",
    "    ax_bar.set_title(\"Network Output Confidence\")\n",
    "\n",
    "    plt.tight_layout()\n",
    "    plt.show()\n",
    "    \n",
    "@interact(idx=(0, len(misclassified)-1))\n",
    "def interactive_view(idx=0):\n",
    "    show_test_sample(testing, misclassified[idx], w_i_h, w_h_o, b_i_h, b_h_o)\n"
   ]
  },
  {
   "cell_type": "code",
   "execution_count": 49,
   "id": "dbf13796",
   "metadata": {},
   "outputs": [
    {
     "data": {
      "image/png": "[encoded data removed]",
      "text/plain": [
       "<Figure size 1000x400 with 2 Axes>"
      ]
     },
     "metadata": {},
     "output_type": "display_data"
    }
   ],
   "source": [
    "from random import randint\n",
    "show_test_sample(testing, randint(0, testing.images.shape[0] - 1), w_i_h, w_h_o, b_i_h, b_h_o)"
   ]
  }
 ],
 "metadata": {
  "kernelspec": {
   "display_name": "Python 3",
   "language": "python",
   "name": "python3"
  },
  "language_info": {
   "codemirror_mode": {
    "name": "ipython",
    "version": 3
   },
   "file_extension": ".py",
   "mimetype": "text/x-python",
   "name": "python",
   "nbconvert_exporter": "python",
   "pygments_lexer": "ipython3",
   "version": "3.13.9"
  }
 },
 "nbformat": 4,
 "nbformat_minor": 5
}
